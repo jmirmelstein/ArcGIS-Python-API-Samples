{
 "cells": [
  {
   "cell_type": "markdown",
   "metadata": {},
   "source": [
    "Note: All Credit to University of Michigan for this notebook! - https://umich.maps.arcgis.com/home/item.html?id=9523eaa22a8043b087f798e51a9bee1b"
   ]
  },
  {
   "cell_type": "markdown",
   "metadata": {},
   "source": [
    "# Clone an ArcGIS StoryMap\n",
    "\n",
    "A Notebook to guide you through you through the steps of cloning an ArcGIS StoryMap. (It is not for cloning Classic StoryMap apps.)\n",
    "\n",
    "The goal of this Notebook is to support situations where a \"full\" clone of StoryMap is required. Where the person creating the StoryMap wants to keep a copy for themselves, under their full control, however, they also need to provide a copy of the StoryMap to someone else, who will then have full control over that copy.\n",
    "\n",
    "This Notebook defines \"full\" clone as cloning not only the StoryMap, but also any referenced content in the StoryMap that is owned by the same user as the StoryMap. Cloning referenced content is supported for the major content types (images, express maps, web maps, web scenes, feature layers, etc.). For unsupported content types, the reference to the orignal item wil be carried through to the cloned StoryMap. Similarly, for referenced content that is not owned by the same user, the reference to the original item will be maintained in the clone."
   ]
  },
  {
   "cell_type": "markdown",
   "metadata": {},
   "source": [
    "## Some Additional Notes\n",
    "* The code in this Notebook is designed for readability and understanding of the various steps. It is not optimized.\n",
    "* It is generally recommended that the user running this Notebook have the built-in Administrator role. The user running the Notebook needs to have full access to the StoryMap (and any referenced content) to create a full copy. If the user only has view access to the StoryMap, then the Notebook can only clone the published version of the StoryMap. Any unpublished edits in the draft version will not be accessible, and, therefore, not included in the cloned StoryMap. (The latter situation can occur even when running as an Administrator, if you are not an Administrator on the system from which the StoryMap is beling cloned; for example, when you are cloning a StoryMap from a public ArcGIS Online account.)\n",
    "* If a StoryMap is shared with a Shared Update group, then the user running this Notebook need only be a member of that group with access to edit the StoryMap for the Notebook to be able to clone any draft version of the StoryMap, in addition to the published version.\n",
    "* Cloning a StoryMap produces a new item, which means a new URL. For certain use cases, you may want to change the ownershp of the original StoryMap (and appropriate referenced content) to the person for whom the clone is being made, so that references to the original URL are maintained, and then clone the StoryMap back to the original owner. For example, if a student makes StoryMap on behalf of faculty member, and the faculty member has already been distributing or linking to that StoryMap's URL, then it would be best to make the faculty member the owner of the original StoryMap, and produce a clone of it for the student.\n",
    "* The sharing settings for the original StoryMap are not carried over to the clone. The cloned StoryMap is initially only visible to its owner."
   ]
  },
  {
   "cell_type": "markdown",
   "metadata": {},
   "source": [
    "# Initialization"
   ]
  },
  {
   "cell_type": "code",
   "execution_count": null,
   "metadata": {},
   "outputs": [],
   "source": [
    "import arcgis\n",
    "from arcgis import GIS\n",
    "from arcgis import mapping\n",
    "from arcgis import features\n",
    "from datetime import datetime, timezone\n",
    "import json\n",
    "from pkg_resources import parse_version\n",
    "\n",
    "# Minimum and maxium known versions of ArcGIS StoryMaps for which this script is known to work.\n",
    "# (Note that older versions of StoryMaps can be updated to the latest verison by re-publishing them.)\n",
    "minimum_storymap_version = parse_version('20.0.0')\n",
    "maximum_storymap_version = parse_version('20.3.0')    # lastest known version, June 2020 ArcGIS StoryMap release"
   ]
  },
  {
   "cell_type": "code",
   "execution_count": null,
   "metadata": {},
   "outputs": [],
   "source": [
    "# Check that the version of the ArcGIS API for Python in the current environment is at least 1.7.0\n",
    "# This Notebook may work with older versions of the API, however, it has only been confirmed to work with 1.7.0 and up. \n",
    "if( parse_version(arcgis.__version__) < parse_version('1.7.0') ):\n",
    "    print(\"This Notebook is known to work in version 1.7.0 (or later) of the ArcGIS API for Python.\")\n",
    "    print(\"You are using an earlier version of the API {0}. Proceed at your own risk...\".format(arcgis.__version__))\n",
    "    print(\"Location:\", arcgis.__file__)\n",
    "else:\n",
    "    print(\"Environment is using ArcGIS API for Python version:\", arcgis.__version__)"
   ]
  },
  {
   "cell_type": "markdown",
   "metadata": {},
   "source": [
    "# Provide Information for Cloning"
   ]
  },
  {
   "cell_type": "markdown",
   "metadata": {},
   "source": [
    "## StoryMap to be Cloned"
   ]
  },
  {
   "cell_type": "code",
   "execution_count": null,
   "metadata": {},
   "outputs": [],
   "source": [
    "# Enter the Item ID for the StoryMap to be cloned.\n",
    "source_storymap_itemId = 'item_id'"
   ]
  },
  {
   "cell_type": "markdown",
   "metadata": {},
   "source": [
    "## Source GIS Connection Info\n",
    "\n",
    "Typically this is the ArcGIS Online organization that hosts the StoryMap which is being cloned, and for which the user running this Notebook is an Administrator.\n",
    "\n",
    "If the StoryMap to be cloned is hosted on an organization of which the user running the Notebook is not a member, then as long as the StoryMap and its content are shared publicly, then this Notebook will clone the published version of the StoryMap, but not any unpublished edits in the draft version of the StoryMap."
   ]
  },
  {
   "cell_type": "code",
   "execution_count": null,
   "metadata": {},
   "outputs": [],
   "source": [
    "# Define the source GIS which will be used to access the StoryMap to be cloned.\n",
    "# Fill in the login information for the source GIS account here, or set use_builtin to True to authenticate via ArcGIS Pro or ArcGIS Online:\n",
    "source_portal_url = ''\n",
    "source_username = ''\n",
    "source_password = ''\n",
    "source_use_builtin = False"
   ]
  },
  {
   "cell_type": "markdown",
   "metadata": {},
   "source": [
    "## Target GIS Connection Info\n",
    "\n",
    "This is the ArcGIS Online organization to which the StoryMap is being cloned."
   ]
  },
  {
   "cell_type": "code",
   "execution_count": null,
   "metadata": {},
   "outputs": [],
   "source": [
    "# Define the target GIS (where the story map should be copied to)\n",
    "# Fill in the login information for the source GIS account here, or set use_builtin to True to authenticate via ArcGIS Pro or ArcGIS Online:\n",
    "target_portal_url = ''   # URL for your ArcGIS for Student Use ArcGIS Online instance.\n",
    "tagert_username = ''\n",
    "target_password = ''\n",
    "target_use_builtin = False"
   ]
  },
  {
   "cell_type": "markdown",
   "metadata": {},
   "source": [
    "# Clone an ArcGIS StoryMap\n",
    "\n",
    "Begin the process of cloning the specified ArcGIS StoryMap."
   ]
  },
  {
   "cell_type": "markdown",
   "metadata": {},
   "source": [
    "## Setup GIS Connections"
   ]
  },
  {
   "cell_type": "code",
   "execution_count": null,
   "metadata": {},
   "outputs": [],
   "source": [
    "# A function for connecting to an ArcGIS Online instance.\n",
    "def gis_login(portal_url='', username='', password='', use_builtin=False):\n",
    "    try:\n",
    "        if use_builtin:\n",
    "            # Checking home path is a good indicator for ArcGIS Online versus local Notebook server environment.\n",
    "            homepath = %env HOMEPATH\n",
    "            if( homepath == r'/home/arcgis' ):\n",
    "                print( \"ArcGIS Online Notebook Server\" )\n",
    "                gis = GIS('home')\n",
    "            else:\n",
    "                print( \"Local Notebook Server\" )\n",
    "                gis = GIS('pro')\n",
    "        else:\n",
    "            gis = GIS(url = portal_url,username=username, password=password) \n",
    "        print( 'Login successful.' )\n",
    "        print( '    url:      ' + gis.url)\n",
    "        # Name is only available for organizational subscriptions, not public ArcGIS Oline accounts.\n",
    "        if( 'name' in gis.properties.user):\n",
    "            print( '    server:   ' + gis.properties.name )\n",
    "        print( '    user:     ' + gis.properties.user.username )\n",
    "        # Role only available for organizational subscriptions, not public ArcGIS Oline accounts.\n",
    "        if( 'role' in gis.properties.user):\n",
    "            print( '    role:     ' + gis.properties.user.role )\n",
    "        print( '    provider: ' + gis.properties.user.provider )\n",
    "    except:\n",
    "        print('Login error.')\n",
    "        #gis = None\n",
    "    return(gis)"
   ]
  },
  {
   "cell_type": "code",
   "execution_count": null,
   "metadata": {},
   "outputs": [],
   "source": [
    "# Connect to source GIS instance.\n",
    "source_gis = gis_login(portal_url=source_portal_url, username=source_username, password=source_password, use_builtin=source_use_builtin)"
   ]
  },
  {
   "cell_type": "code",
   "execution_count": null,
   "metadata": {},
   "outputs": [],
   "source": [
    "# Connect to target GIS instance.\n",
    "target_gis = gis_login(portal_url=target_portal_url, username=tagert_username, password=target_password, use_builtin=target_use_builtin)"
   ]
  },
  {
   "cell_type": "markdown",
   "metadata": {},
   "source": [
    "## Create Tag for Cloned Items\n",
    "\n",
    "The tag can help with searching to find all the content created as a result of the cloning. Note that clone_items() will also add tags containing item IDs for some items it produces, in order to help associate them with their originals."
   ]
  },
  {
   "cell_type": "code",
   "execution_count": null,
   "metadata": {},
   "outputs": [],
   "source": [
    "# Create a Tag to add to cloned items to help keep track of things, in case you need to undo something.\n",
    "# The tag incorporates the current time at which this Notebook is being run.\n",
    "# (While the system permits you to put a \":\" in tag, do not do so! It is the delimiter for keywords used in querying in ArcGIS onilne (e.g., query=\"tags:Demo\"), so using a \":\" inside a tag will make it impossible to search for.)\n",
    "process_timestamp_tag = 'StoryMap_Clone_Created_' + datetime.now(timezone.utc).strftime(\"%Y-%m-%d_%H.%M.%S.%f_UTC\")\n",
    "print('process_timestamp_tag:', process_timestamp_tag)"
   ]
  },
  {
   "cell_type": "code",
   "execution_count": null,
   "metadata": {},
   "outputs": [],
   "source": [
    "# Check to make sure there are no items already on the target GIS using this tag.\n",
    "items = target_gis.content.search(\"tags:\"+process_timestamp_tag)\n",
    "if( len(items) > 0 ):\n",
    "    # Content with this tag really shouldn't exist already, so if it does, then you probably should start over and run the cell above again to get a new tag.\n",
    "    print(\"ERROR: Content with tag already exists on target GIS!\")\n",
    "    print(items)\n",
    "else:\n",
    "    print(\"No content with tag exists on target GIS.\")"
   ]
  },
  {
   "cell_type": "markdown",
   "metadata": {},
   "source": [
    "## Retrive the StoryMap to Clone"
   ]
  },
  {
   "cell_type": "code",
   "execution_count": null,
   "metadata": {
    "scrolled": true
   },
   "outputs": [],
   "source": [
    "# Get StoryMap to clone. \n",
    "storymap_item = source_gis.content.get(source_storymap_itemId)\n",
    "storymap_item"
   ]
  },
  {
   "cell_type": "code",
   "execution_count": null,
   "metadata": {},
   "outputs": [],
   "source": [
    "# Set source_user to owner of StoryMap; only referenced items also owned by the same user should also be cloned.\n",
    "source_user = storymap_item['owner']\n",
    "print('StoryMap owned by:', source_user)"
   ]
  },
  {
   "cell_type": "code",
   "execution_count": null,
   "metadata": {},
   "outputs": [],
   "source": [
    "# Determine if user running script has access to unpublished edits for StoryMap, or only the published version, \n",
    "# in which case those edits will not be included in the clone.\n",
    "#\n",
    "# Unpublished edits are inaccessible to the user running the script when:\n",
    "# * user is not a member of the ArcGIS Online organization hosting the StoryMap, or\n",
    "# * user is from the same org, but is not an Admin, nor the owner of the StoryMap\n",
    "\n",
    "# Get user item for StoryMap owner.\n",
    "storymap_user = source_gis.users.get(source_user)\n",
    "\n",
    "# Display warning to user, if this script will not be able to clone unpublished edits.\n",
    "# Also set flag for access to those draft changes, to that thigns can be handled appropriately later on.\n",
    "if( \n",
    "    ('orgId' not in storymap_user) or\n",
    "    (source_gis.properties.user.role != 'org_admin' and source_gis.properties.user.username != source_user )\n",
    "):\n",
    "    print(\"WARNING: Your account does not have access to unpublished edits in the StoryMap. If any are present, then they will not be included in the clone.\")\n",
    "    print(\"    Your account:\", source_gis.properties.user.username)\n",
    "    draft_accessible = False\n",
    "else:\n",
    "    print(\"Your account has access to unpublished edits in the StoryMap. If any are present, then will be included in the clone.\")\n",
    "    draft_accessible = True"
   ]
  },
  {
   "cell_type": "code",
   "execution_count": null,
   "metadata": {},
   "outputs": [],
   "source": [
    "# For reference, dispaly the StoryMap's typeKeywords\n",
    "print(\"StoryMap's typeKeywords\", storymap_item['typeKeywords'])"
   ]
  },
  {
   "cell_type": "code",
   "execution_count": null,
   "metadata": {},
   "outputs": [],
   "source": [
    "# Check StoryMap's typeKeywords to ensure it fits the model this Notebook was built upon.\n",
    "\n",
    "# Check that it is an arcgis-storymaps item.\n",
    "if( 'arcgis-storymaps' in storymap_item['typeKeywords'] ):\n",
    "    print(\"arcgis-storymaps typeKeyword is present.\")\n",
    "else:\n",
    "    print(\"WARNING: 'arcgis-storymaps' not present in typeKeywords!\")\n",
    "\n",
    "# Check that status is one of the known typeKeywords.\n",
    "status = [ x for x in storymap_item['typeKeywords'] if x.startswith(('smstatusdraft','smstatuspublished','smstatusunpublishedchanges'), 0)]\n",
    "if( status ):\n",
    "    print(status[0], 'is a known StoryMap status.')\n",
    "else:\n",
    "    print(\"WARNING: no known StoryMap status typeKeyword is present!\")\n",
    "    \n",
    "# Check that StoryMap's versions are present, and are one of the known versions.\n",
    "smdraftversion = [ x for x in storymap_item['typeKeywords'] if x.startswith('smversiondraft', 0)]\n",
    "if( smdraftversion ):\n",
    "    version = parse_version(smdraftversion[0][15:])\n",
    "    if( version >= minimum_storymap_version and version <= maximum_storymap_version ):\n",
    "        print('smdraftversion:', version, 'is a tested StoryMap version.')\n",
    "    elif( version < minimum_storymap_version ):\n",
    "        print(\"WARNING: StoryMap has an untested smdraftversion:\", version)\n",
    "        print(\"WARNING: It is recommended that you re-publish the StoryMap so that it is updated to the current version of ArcGIS StoryMaps.\")\n",
    "    else:\n",
    "        print(\"WARNING: StoryMap has an untested smdraftversion:\", version)\n",
    "        print(\"WARNING: This version is newer then the most recent release with which this script was tested, and may work perfectly fine.\")\n",
    "else:\n",
    "    print(\"WARNING: no 'smversiondraft' typeKeyword found.\")\n",
    "# A published version will only be presnet if StoryMap has been published.\n",
    "if( any(status in ['smstatuspublished','smstatusunpublishedchanges'] for status in storymap_item['typeKeywords']) ):\n",
    "    smversionpublished = [ x for x in storymap_item['typeKeywords'] if x.startswith('smversionpublished', 0)]\n",
    "    if( smversionpublished ):\n",
    "        version = parse_version(smversionpublished[0][19:])\n",
    "        if( version >= minimum_storymap_version and version <= maximum_storymap_version ):\n",
    "            print('smversionpublished:', version, 'is a tested StoryMap version.')\n",
    "        elif( version < minimum_storymap_version ):\n",
    "            print(\"WARNING: StoryMap has an untested smversionpublished:\", version)\n",
    "            print(\"WARNING: It is recommended that you re-publish the StoryMap so that it is updated to the current version of ArcGIS StoryMaps.\")\n",
    "        else: \n",
    "            print(\"WARNING: StoryMap has an untested smversionpublished:\", version)\n",
    "            print(\"WARNING: This version is newer then the most recent release with which this script was tested, and may work perfectly fine.\")\n",
    "    else:\n",
    "        print(\"WARNING: no 'smversionpublished' typeKeyword found.\")"
   ]
  },
  {
   "cell_type": "markdown",
   "metadata": {},
   "source": [
    "## Identify Referenced Content in StoryMap\n",
    "\n",
    "Generate a list of item IDs for the referenced content in both, if applicable, the published and draft versions of the Storymap."
   ]
  },
  {
   "cell_type": "code",
   "execution_count": null,
   "metadata": {},
   "outputs": [],
   "source": [
    "# Retrieve the StoryMap's draft json Resource ID (or file name) from the smdraftresourceid keyword in the item's typeKeywords.\n",
    "smdraftresourceid = [x[18:] for x in storymap_item['typeKeywords'] if x.startswith('smdraftresourceid:',0)][0]\n",
    "smdraftresourceid"
   ]
  },
  {
   "cell_type": "code",
   "execution_count": null,
   "metadata": {},
   "outputs": [],
   "source": [
    "# Function for generating a list of itemIds for referenced resources for supported types (i.e., web maps, web scenes) in a StoryMap\n",
    "def get_resource_itemIds(resources):\n",
    "    wm_itemIds = []\n",
    "    for key, val in resources.items():\n",
    "        print()\n",
    "        if( val['type'] == 'webmap' ):\n",
    "            \n",
    "            # Obtain referenced item.\n",
    "            itemId = val['data']['itemId']\n",
    "            items = source_gis.content.search('id:' + itemId, outside_org = True)\n",
    "            \n",
    "            # If item is accessible to user running Notebook, then process the item referenced.\n",
    "            if( len(items) == 1 ):\n",
    "                item = source_gis.content.get(itemId)\n",
    "                # Only track itemIds for swizzling for webmap resources owned by the same user (i.e., source_user.)\n",
    "                if(item['owner'] == source_user):\n",
    "                    print( item['id'], val['type'] )\n",
    "                    print( item['type'], item['typeKeywords'] )\n",
    "                    # Is webmap item a Web Map?\n",
    "                    if( 'Web Map' in item['typeKeywords'] ):\n",
    "                        print( \">>>> Adding Web Map to wm_itemIDs map\" )\n",
    "                        wm_itemIds.append(item['id'])\n",
    "                    # Is webmap item a Web Scene?\n",
    "                    elif( 'Web Scene' in item['typeKeywords'] ):\n",
    "                        print( \">>>> Adding Web Scene to wm_itemIDs map\" )\n",
    "                        wm_itemIds.append(item['id'])\n",
    "                    # Else is an unsupported webmap type... what is it?\n",
    "                    else:\n",
    "                        print( \">>>> WARNING: Unsupported webmap type\" )\n",
    "                else:\n",
    "                    print( item['id'], item['owner'])\n",
    "                    print(\">>>> Not owned by source_user\")\n",
    "                    \n",
    "            elif( len(items) == 0 ):\n",
    "                # User running script is not able to accessed the referenced item, so return an error, as clone will not be complete.\n",
    "                print(\"ERROR: Referenced item is not accessible, so cannot include in clone. ID =\", itemId)\n",
    "                \n",
    "            else:\n",
    "                print(\"ERROR: unexpected number of results returned from search\", len(items))\n",
    "                \n",
    "        elif( val['type'] == 'expressmap' or val['type'] == 'image' or val['type'] == 'story-theme'):\n",
    "            # These \"built-in\" types are cloned along with the StoryMap, so no itemId to track for them.\n",
    "            print(val['type'])\n",
    "            print(\">>>> Inclusive resource type, no itemId to track\")\n",
    "        else:\n",
    "            # Any type we haven't yet dealt with...\n",
    "            print(val['type'])\n",
    "            print(\">>>> WARNING: 'type' is not supported\")\n",
    "    return(wm_itemIds)"
   ]
  },
  {
   "cell_type": "code",
   "execution_count": null,
   "metadata": {},
   "outputs": [],
   "source": [
    "# Get list of resource itemIds in draft JSON, if draft is accessible by user running Notebook.\n",
    "print(\"Draft JSON itemIds:\")\n",
    "if( draft_accessible ):\n",
    "    wm_itemIds = get_resource_itemIds(storymap_item.resources.get(smdraftresourceid)['resources'])\n",
    "else:\n",
    "    print(\"You do not have access to StoryMap's unpublished edits. They will not be cloned.\")\n",
    "    wm_itemIds = []                               "
   ]
  },
  {
   "cell_type": "code",
   "execution_count": null,
   "metadata": {},
   "outputs": [],
   "source": [
    "# If StoryMap is published, then add to list the list of resource itemIds in published JSON.\n",
    "if( any(status in ['smstatuspublished','smstatusunpublishedchanges'] for status in storymap_item['typeKeywords']) ):\n",
    "    print(\"\\nPublished JSON itemIds:\")\n",
    "    wm_itemIds.extend(get_resource_itemIds(storymap_item.get_data()['resources']))\n",
    "else:\n",
    "    print(\"StoryMap is not published.\")"
   ]
  },
  {
   "cell_type": "code",
   "execution_count": null,
   "metadata": {},
   "outputs": [],
   "source": [
    "# Show complete list of webmap itemIds. \n",
    "print(\"\\nComplete list of webmap itemIds:\")\n",
    "print(wm_itemIds)\n",
    "\n",
    "# Reduce list to unique set of webmap itemIds.\n",
    "wm_itemIds = list(set(wm_itemIds))\n",
    "\n",
    "# Show unique list of itemIds.\n",
    "print(\"\\nUnique list of webmap itemIds:\")\n",
    "print(wm_itemIds)"
   ]
  },
  {
   "cell_type": "markdown",
   "metadata": {},
   "source": [
    "## Retrieve Referenced Feature Layers\n",
    "\n",
    "Get a list of feature layers, which are referenced by Web Maps and Web Scenes referenced in the Story Map."
   ]
  },
  {
   "cell_type": "code",
   "execution_count": null,
   "metadata": {},
   "outputs": [],
   "source": [
    "# Function to extract feature layer itemIds owned by source user from layers in Web Maps and Web Scenes.\n",
    "def extract_fl_itemIds( layers ):\n",
    "    for layer in layers:\n",
    "        print()\n",
    "        print(\"layer:\", layer['id'], layer['layerType'])\n",
    "        # Is layer an \"ArcGISFeatureLayer\" and has an itemId?\n",
    "        if( layer['layerType'] == 'ArcGISFeatureLayer' and 'itemId' in layer.keys() ):\n",
    "            fl_item = source_gis.content.get(layer['itemId'])\n",
    "            # Is feature layer owned by source_user\n",
    "            if( fl_item['owner'] == source_user ):\n",
    "                print(\"layer itemId:\", layer['itemId'])\n",
    "                fl_itemIds_to_clone.append(layer['itemId'])\n",
    "                print(\">>>> CLONE\")\n",
    "            else:\n",
    "                print(\"layer itemId:\", layer['itemId'])\n",
    "                fl_itemIds_do_not_clone.append(layer['itemId'])\n",
    "                print(\">>>> PASS AS-IS: Not owned by source_user.\")\n",
    "        # Is layer a \"GroupLayer\"?\n",
    "        elif( layer['layerType'] == 'GroupLayer' ):\n",
    "            print(\"Group Layer:\", layer['title'] )\n",
    "            extract_fl_itemIds(layer['layers'])\n",
    "        else:\n",
    "            print(\">>>> IGNORE: Not an ArcGISFeatureLayer with an itemId.\")"
   ]
  },
  {
   "cell_type": "code",
   "execution_count": null,
   "metadata": {},
   "outputs": [],
   "source": [
    "# Get list of Feature Layer itemIds in Web Maps for Feature Layers that are ArcGISFeatureLayer, have an itemId,\n",
    "# and are owned by source_user. These are the Feature Layers which need to be cloned.\n",
    "#\n",
    "# Also get a list of Feature Layer itemIds in Web Maps for ones that do not need to be cloned, so that these can be \n",
    "# passed through as-is; the cloned StoryMap will point the same item in this case as the original StoryMap.\n",
    "#\n",
    "# Goal is to avoid cloning unnecessary duplicates of feature layers referenced by more than one map or xcene in Story, \n",
    "# and to avoid clonging feature layers not owned by the source_user (not their's to clone).\n",
    "\n",
    "fl_itemIds_to_clone = []\n",
    "fl_itemIds_do_not_clone = []\n",
    "\n",
    "for itemId in wm_itemIds:\n",
    "    item = source_gis.content.get(itemId)\n",
    "    print(\"\\nWorking on item:\")\n",
    "    print(item['id'], '\"'+item['title']+'\"', item['type'], item['owner'])\n",
    "    print(\"type:\", item['type'])\n",
    "    print(\"typeKeywords:\", item['typeKeywords'])\n",
    "    \n",
    "    # Is item a Web Map?\n",
    "    if( item['type'] == 'Web Map' ):\n",
    "        wm = mapping.WebMap(item)\n",
    "        extract_fl_itemIds(wm.layers)\n",
    "    # Is item a Web Scene?\n",
    "    elif( item['type'] == 'Web Scene' ):\n",
    "        ws = mapping.WebScene(item)\n",
    "        extract_fl_itemIds(ws['operationalLayers'])\n",
    "    # Something other than a Web Map or Web Scene, so ignore it.\n",
    "    else:\n",
    "        print(\"    >>>> IGNORE: Not a Web Map.\")"
   ]
  },
  {
   "cell_type": "code",
   "execution_count": null,
   "metadata": {},
   "outputs": [],
   "source": [
    "# Reduce lists to unique set of itemIds.\n",
    "fl_itemIds_to_clone = list(set(fl_itemIds_to_clone))\n",
    "fl_itemIds_do_not_clone = list(set(fl_itemIds_do_not_clone))\n",
    "\n",
    "print(\"Feature Layers that will be cloned:\")\n",
    "for itemId in fl_itemIds_to_clone:\n",
    "    print(itemId)\n",
    "    \n",
    "print(\"\\nFeature Layers that will NOT be cloned:\")\n",
    "for itemId in fl_itemIds_do_not_clone:\n",
    "    print(itemId)"
   ]
  },
  {
   "cell_type": "markdown",
   "metadata": {},
   "source": [
    "## Clone Feature Layers\n",
    "\n",
    "Start the cloning process by first cloning the appropriate feature layers referenced by Web Maps and Web Scenes referenced in the StoryMap."
   ]
  },
  {
   "cell_type": "code",
   "execution_count": null,
   "metadata": {},
   "outputs": [],
   "source": [
    "# Clone Feature Layers and produce map of original to cloned itemIds.\n",
    "\n",
    "fl_itemId_map = {}\n",
    "\n",
    "print(\"\\nOriginal itemId                  Cloned itemId\")\n",
    "\n",
    "for fl_itemId in fl_itemIds_to_clone:\n",
    "    cloned_items = target_gis.content.clone_items(\n",
    "        items = [source_gis.content.get(fl_itemId)],\n",
    "        search_existing_items = False\n",
    "    )\n",
    "    \n",
    "    # Expecting only one cloned item when cloning the feature layer\n",
    "    if( len(cloned_items) != 1 ):\n",
    "        print(\">>>> WARNING: Unexpected number of clones produced!\", len(cloned_items))\n",
    "        for item in cloned_items:\n",
    "            print(item['id'], '\"'+item['title']+'\"', item['type'], item['owner'])\n",
    "    \n",
    "    # Assume there is one cloned item and it is the feature layer\n",
    "    cloned_item = cloned_items[0]\n",
    "    print(fl_itemId, cloned_item['id'], '\"'+cloned_item['title']+'\"', cloned_item['type'], cloned_item['owner'])\n",
    "    \n",
    "    # Add the Tag from above to the cloned items to help keep track of things.\n",
    "    cloned_item['tags'].append(process_timestamp_tag)\n",
    "    result = cloned_item.update(\n",
    "        item_properties = {\n",
    "            'tags': cloned_item['tags']\n",
    "        }\n",
    "    )\n",
    "    \n",
    "    # Add source/original and target/cloned feature layer's itemId to itemId map.\n",
    "    fl_itemId_map.update({fl_itemId:cloned_item['id']})"
   ]
  },
  {
   "cell_type": "code",
   "execution_count": null,
   "metadata": {},
   "outputs": [],
   "source": [
    "# Add mapping of non-cloned feature layers to point to themselves, so the references to the originals \n",
    "# will be preserved in the cloned StoryMap.\n",
    "for fl_itemId in fl_itemIds_do_not_clone:\n",
    "    fl_itemId_map.update({fl_itemId:fl_itemId})\n",
    "\n",
    "# Show the whole feature layer itemId_map dictionary.\n",
    "print(\"\\nOriginal itemId                  Cloned itemId\")\n",
    "for k,v in fl_itemId_map.items():\n",
    "    item = source_gis.content.get(k)\n",
    "    print(k, v, '\"'+item['title']+'\"', item['type'], item['owner'])"
   ]
  },
  {
   "cell_type": "markdown",
   "metadata": {},
   "source": [
    "## Clone Resources (e.g., Web Maps, Web Scenes)\n",
    "\n",
    "The next step in the cloning process is to clone the appropriate resources referenced in the StoryMap."
   ]
  },
  {
   "cell_type": "code",
   "execution_count": null,
   "metadata": {},
   "outputs": [],
   "source": [
    "# Clone resources (i.e., Web Maps, Web Scenes) and generate a map of source itemIds to cloned itemIds.\n",
    "# When cloning web maps, use the feature layer itemId map created above with the item_mapping parameter.\n",
    "# At this point the list of resources to clone consists of only supported resource types (e.g, webmaps), as it was filtered above.\n",
    "#\n",
    "# There should only be one item returned by clone_items for each resource cloned..\n",
    "\n",
    "wm_itemId_map = {}\n",
    "\n",
    "print(\"\\nOriginal itemId                  Cloned itemId\")\n",
    "\n",
    "for wm_itemId in wm_itemIds:\n",
    "    cloned_items = target_gis.content.clone_items(\n",
    "        items = [source_gis.content.get(wm_itemId)],\n",
    "        item_mapping = fl_itemId_map,\n",
    "        search_existing_items = False\n",
    "    )\n",
    "    \n",
    "    # Expecting only one cloned item when cloning a Web Map or Web Scene.\n",
    "    if( len(cloned_items) != 1 ):\n",
    "        if( len(cloned_items) == 0 ):\n",
    "            print(\">>>> WARNING: No clones produced!\")\n",
    "        else:\n",
    "            print(\">>>> WARNING: Unexpected number (>1) of clones produced!\", len(cloned_items))\n",
    "            for item in cloned_items:\n",
    "                print(item['id'], '\"'+item['title']+'\"', item['type'], item['owner'])\n",
    "            \n",
    "    # Assume there is one cloned item and it is the cloned web map.\n",
    "    cloned_item = cloned_items[0]\n",
    "    print()\n",
    "    print(wm_itemId, cloned_item['id'], '\"'+cloned_item['title']+'\"', cloned_item['type'], cloned_item['owner'])\n",
    "    \n",
    "    # Add the Tag from above to the cloned items to help keep track of things.\n",
    "    cloned_item['tags'].append(process_timestamp_tag)\n",
    "    result = cloned_item.update(\n",
    "        item_properties = {\n",
    "            'tags': cloned_item['tags']\n",
    "        }\n",
    "    )\n",
    "    \n",
    "    # Add source/original and target/cloned webmaps' itemIds to itemId_map dictionary.\n",
    "    wm_itemId_map.update({wm_itemId:cloned_item['id']})\n",
    "    \n",
    "    # If webmap is a Web Scene, then addtional steps are required to complete its clone.\n",
    "    if( cloned_item['type'] == 'Web Scene' ):\n",
    "        print(\"\\nSwizzling layers of Web Scene:\", wm_itemId, cloned_item['id'])\n",
    "    \n",
    "        # Get json data of original Web Scene\n",
    "        data = source_gis.content.get(wm_itemId).get_data()\n",
    "        \n",
    "        # Swizzle feature Layer itemIDs as needed.\n",
    "        for layer in data['operationalLayers']:\n",
    "            if( layer['layerType'] == 'ArcGISFeatureLayer' and 'itemId' in layer.keys() ):\n",
    "                print(\"\\nArcGISFeatureLayer w/ itemId:\", layer['title'])\n",
    "                # Update both the layer's URL and itemId\n",
    "                original_itemId = layer['itemId']\n",
    "                original_url = layer['url']\n",
    "\n",
    "                layer['url'] = target_gis.content.get(fl_itemId_map[layer['itemId']])['url'] + '/' + layer['url'].rpartition('/')[2]\n",
    "\n",
    "                layer['itemId'] = fl_itemId_map[layer['itemId']]\n",
    "\n",
    "                print(\"Mapped:\", original_itemId, \"to\", layer['itemId'])\n",
    "                print(\"Mapped:\", original_url, \"to\", layer['url'])\n",
    "\n",
    "            elif( layer['layerType'] == 'GroupLayer:', layer['title'] ):\n",
    "                print(\"\\nGroupLayer\")\n",
    "                for l in layer['layers']:\n",
    "                    if( l['layerType'] == 'ArcGISFeatureLayer' and 'itemId' in l.keys() ):\n",
    "                        print(\"\\nGroup - ArcGISFeatureLayer w/ itemId:\", l['title'])\n",
    "                        # Update both the layer's URL and itemId\n",
    "                        original_itemId = l['itemId']\n",
    "                        original_url = l['url']\n",
    "\n",
    "                        l['url'] = target_gis.content.get(fl_itemId_map[l['itemId']])['url'] + '/' + l['url'].rpartition('/')[2]\n",
    "\n",
    "                        l['itemId'] = fl_itemId_map[l['itemId']]\n",
    "\n",
    "                        print(\"Mapped:\", original_itemId, \"to\", l['itemId'])\n",
    "                        print(\"Mapped:\", original_url, \"to\", l['url'])\n",
    "        \n",
    "        # Update json data of cloned Web Scene.\n",
    "        result = cloned_item.update(data = data)\n",
    "        print(\"Updated Web Scene data:\", result)"
   ]
  },
  {
   "cell_type": "markdown",
   "metadata": {},
   "source": [
    "## Clone StoryMap\n",
    "\n",
    "The last thing that needs to be cloned is the StoryMap itself."
   ]
  },
  {
   "cell_type": "code",
   "execution_count": null,
   "metadata": {
    "scrolled": true
   },
   "outputs": [],
   "source": [
    "# Clone the ArcGIS StoryMap from the source to the target\n",
    "clones = target_gis.content.clone_items(\n",
    "    items = [storymap_item],\n",
    "    search_existing_items = False\n",
    ")\n",
    "# Cloned StoryMap should be the first and only item returned.\n",
    "if( len(cloned_items) != 1 ):\n",
    "    if( len(cloned_items) == 0 ):\n",
    "        print(\">>>> ERROR: No StoryMap clone produced!\")\n",
    "    else:\n",
    "        print(\">>>> ERROR: Unexpected number (>1) of clone items produced while cloning StoryMap!\", len(cloned_items))\n",
    "        for item in cloned_items:\n",
    "            print(item['id'], '\"'+item['title']+'\"', item['type'], item['owner'])\n",
    "            \n",
    "storymap_clone = clones[0]\n",
    "storymap_clone"
   ]
  },
  {
   "cell_type": "code",
   "execution_count": null,
   "metadata": {},
   "outputs": [],
   "source": [
    "# Add the Tag from above to the cloned StoryMap to help keep track of things.\n",
    "storymap_clone['tags'].append(process_timestamp_tag)\n",
    "update_result = storymap_clone.update(\n",
    "    item_properties = {\n",
    "        #'title': '[Clone] ' + storymap_clone['title'],\n",
    "        'tags': storymap_clone['tags']\n",
    "    }\n",
    ")\n",
    "print(\"Update results:\", update_result)"
   ]
  },
  {
   "cell_type": "code",
   "execution_count": null,
   "metadata": {},
   "outputs": [],
   "source": [
    "# Update clone's url property to point at itself (clone_items initially leaves it pointing to the original StoryMap.)\n",
    "print(\"Original url:\", storymap_clone.url)\n",
    "result = storymap_clone.update(\n",
    "    item_properties = {'url': 'https://storymaps.arcgis.com/stories/' + storymap_clone.id}\n",
    ")\n",
    "print(\"Update result:\", result)\n",
    "print(\"Updated url: \", storymap_clone.url)"
   ]
  },
  {
   "cell_type": "markdown",
   "metadata": {},
   "source": [
    "## Update Cloned StoryMap's JSON with mapped itemIds\n",
    "\n",
    "Swizzle the references in the Cloned StoryMap to point at the cloned Feature Layers, Web Maps, Web Scences, etc., rather than the originals."
   ]
  },
  {
   "cell_type": "code",
   "execution_count": null,
   "metadata": {},
   "outputs": [],
   "source": [
    "# Get draft JSON resource ID or file name.\n",
    "cloned_smdraftresourceid = [x[18:] for x in storymap_clone['typeKeywords'] if x.startswith('smdraftresourceid:',0)][0]\n",
    "cloned_smdraftresourceid"
   ]
  },
  {
   "cell_type": "code",
   "execution_count": null,
   "metadata": {},
   "outputs": [],
   "source": [
    "# Function to replace itemIds in resource section of json using itemIds_map.\n",
    "def replace_cloned_itemIds(data):\n",
    "    for key, val in data['resources'].items():\n",
    "        if( val['type'] == 'webmap' ):\n",
    "            # Check to see if webmap's itemId is one that was cloned\n",
    "            if( [k for k,v in wm_itemId_map.items() if k == val['data']['itemId']] ):\n",
    "                # Replace itemId with cloned itemId.\n",
    "                print(\"match\", val['data']['itemId'], wm_itemId_map[val['data']['itemId']])\n",
    "                val['data']['itemId'] = wm_itemId_map[val['data']['itemId']]\n",
    "            else:\n",
    "                print(\"no match\", val['data']['itemId'])"
   ]
  },
  {
   "cell_type": "code",
   "execution_count": null,
   "metadata": {},
   "outputs": [],
   "source": [
    "# Function to replace resource references (e.g., r-<itemId>) in json using itemIds_map.\n",
    "def recursive_replace_reference(data, old, new):\n",
    "    for k,v in data.items():\n",
    "        if k == old:\n",
    "            data[new] = data.pop(old)\n",
    "        if v == old:\n",
    "            data[k] = new\n",
    "        elif isinstance(v,dict):\n",
    "            recursive_replace_reference(v, old, new)"
   ]
  },
  {
   "cell_type": "code",
   "execution_count": null,
   "metadata": {},
   "outputs": [],
   "source": [
    "# If StoryMap is published, then update published JSON.\n",
    "if( any(status in ['smstatuspublished','smstatusunpublishedchanges'] for status in storymap_clone['typeKeywords']) ):\n",
    "    \n",
    "    # Get the current published json.\n",
    "    clone_data_published = storymap_item.get_data()\n",
    "    \n",
    "    # Replace the source itemIds with the mapped target itemIds in the resource section of published json.\n",
    "    print(\"Updating itemIds\")\n",
    "    replace_cloned_itemIds(clone_data_published)\n",
    "    \n",
    "    # Replace the itemIDs in the resource references.\n",
    "    print(\"\\nUpdating resource references\")\n",
    "    for k,v in wm_itemId_map.items():\n",
    "        old = 'r-' + k\n",
    "        new = 'r-' + v\n",
    "        print(\"Replacing {0} with {1}\".format(old, new))\n",
    "        recursive_replace_reference(clone_data_published, old, new)\n",
    "    \n",
    "    # Update the cloned StoryMap's published json with the updated version.\n",
    "    result = storymap_clone.update(\n",
    "        data = clone_data_published\n",
    "    )\n",
    "    print(\"\\nUpdating published data:\", result)"
   ]
  },
  {
   "cell_type": "code",
   "execution_count": null,
   "metadata": {},
   "outputs": [],
   "source": [
    "# If the draft version of the StoryMap was accessible, then also update the clone's draft json.\n",
    "if( draft_accessible ):\n",
    "    \n",
    "    # Get the current draft json resource.\n",
    "    wm_itemIds = get_resource_itemIds(storymap_item.resources.get(smdraftresourceid)['resources'])\n",
    "    clone_data_draft = storymap_clone.resources.get(cloned_smdraftresourceid)\n",
    "\n",
    "    # Replace the source itemIds with the mapped target itemIds in the resource section of draft json.\n",
    "    print(\"Updating itemIds\")\n",
    "    replace_cloned_itemIds(clone_data_draft)\n",
    "\n",
    "    # Replace the itemIDs in the resource references.\n",
    "    print(\"\\nUpdating resource references\")\n",
    "    for k,v in wm_itemId_map.items():\n",
    "        old = 'r-' + k\n",
    "        new = 'r-' + v\n",
    "        print(\"Replacing {0} with {1}\".format(old, new))\n",
    "        recursive_replace_reference(clone_data_draft, old, new)\n",
    "\n",
    "    # Remove current draft json resource.\n",
    "    result = storymap_clone.resources.remove(cloned_smdraftresourceid)\n",
    "    print(\"\\nRemoving draft data:\", result)\n",
    "else:\n",
    "    print(\"You do not have access to StoryMap's unpublished edits. Published JSON will be substituted for Draft JSON in cloned StoryMap.\") \n",
    "    clone_data_draft = clone_data_published\n",
    "\n",
    "# Add updated draft json resource back using same name.\n",
    "result = storymap_clone.resources.add(\n",
    "    file_name = cloned_smdraftresourceid,\n",
    "    text = json.dumps(clone_data_draft)\n",
    ")\n",
    "print(\"\\nAdding draft data:\", result)"
   ]
  },
  {
   "cell_type": "markdown",
   "metadata": {},
   "source": [
    "# Examine Cloned StoryMap\n",
    "\n",
    "Done! View the final product."
   ]
  },
  {
   "cell_type": "code",
   "execution_count": null,
   "metadata": {},
   "outputs": [],
   "source": [
    "# Check out the Cloned Story to see if everything is okay.\n",
    "storymap_clone"
   ]
  },
  {
   "cell_type": "markdown",
   "metadata": {},
   "source": [
    "# Stop Here!\n",
    "The content below is not part of the StoryMap cloning workflow, but can be helpful if troubleshooting is required."
   ]
  },
  {
   "cell_type": "code",
   "execution_count": null,
   "metadata": {},
   "outputs": [],
   "source": [
    "# Throw an exeception to prevent Run All Cells from going past this point. \n",
    "# (You don't want accidentally run the cells that would delete all the cloned content you just created!)\n",
    "raise SystemExit(\"Stop!\")"
   ]
  },
  {
   "cell_type": "markdown",
   "metadata": {},
   "source": [
    "## Display StoryMap JSON\n",
    "Print out the JSON data for the StoryMap, so that you can cut and paste it into a JSON viewer to make it easier to understand and navigate the hierarchy."
   ]
  },
  {
   "cell_type": "code",
   "execution_count": null,
   "metadata": {
    "scrolled": true
   },
   "outputs": [],
   "source": [
    "print(json.dumps(storymap_item.resources.get(smdraftresourceid), indent=4))"
   ]
  },
  {
   "cell_type": "code",
   "execution_count": null,
   "metadata": {
    "scrolled": true
   },
   "outputs": [],
   "source": [
    "print(json.dumps(storymap_item.get_data(), indent=4))"
   ]
  },
  {
   "cell_type": "code",
   "execution_count": null,
   "metadata": {
    "scrolled": true
   },
   "outputs": [],
   "source": [
    "print(json.dumps(storymap_clone.resources.get(cloned_smdraftresourceid), indent=4))"
   ]
  },
  {
   "cell_type": "code",
   "execution_count": null,
   "metadata": {
    "scrolled": true
   },
   "outputs": [],
   "source": [
    "print(json.dumps(storymap_clone.get_data(), indent=4))"
   ]
  },
  {
   "cell_type": "markdown",
   "metadata": {},
   "source": [
    "## Clean-up: Delete all the Cloned Content"
   ]
  },
  {
   "cell_type": "code",
   "execution_count": null,
   "metadata": {},
   "outputs": [],
   "source": [
    "# Delete all the cloned content; identify it using the Tag assigned above.\n",
    "\n",
    "# Get list of items with Tag.\n",
    "print(\"Items to delete:\")\n",
    "items = target_gis.content.search('tags:' + process_timestamp_tag)\n",
    "for item in items:\n",
    "    print(item)\n",
    "    \n",
    "# Delete the list of items.\n",
    "print(\"\\nDeleting\")\n",
    "result = target_gis.content.delete_items(items)\n",
    "print(result)"
   ]
  },
  {
   "cell_type": "markdown",
   "metadata": {},
   "source": [
    "## Inspect an ArcGIS StoryMap's Properties"
   ]
  },
  {
   "cell_type": "code",
   "execution_count": null,
   "metadata": {},
   "outputs": [],
   "source": [
    "storymap = source_gis.content.get('8607ff45996d4832894203d377ff3953')\n",
    "storymap"
   ]
  },
  {
   "cell_type": "code",
   "execution_count": null,
   "metadata": {},
   "outputs": [],
   "source": [
    "for k,v in storymap.items():\n",
    "    print(k,v)"
   ]
  }
 ],
 "metadata": {
  "kernelspec": {
   "display_name": "Python 3",
   "language": "python",
   "name": "python3"
  },
  "language_info": {
   "codemirror_mode": {
    "name": "ipython",
    "version": 3
   },
   "file_extension": ".py",
   "mimetype": "text/x-python",
   "name": "python",
   "nbconvert_exporter": "python",
   "pygments_lexer": "ipython3",
   "version": "3.6.9"
  }
 },
 "nbformat": 4,
 "nbformat_minor": 4
}
