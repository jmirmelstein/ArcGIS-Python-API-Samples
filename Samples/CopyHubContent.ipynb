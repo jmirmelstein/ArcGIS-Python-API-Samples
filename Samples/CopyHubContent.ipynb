{
 "cells": [
  {
   "cell_type": "markdown",
   "metadata": {},
   "source": [
    "#### This notebook can be used to copy ArcGIS Hub Initiatives, Sites and pages from one organization to another."
   ]
  },
  {
   "cell_type": "code",
   "execution_count": 35,
   "metadata": {},
   "outputs": [],
   "source": [
    "src_gis_url = 'https://myorg.maps.arcgis.com'\n",
    "src_gis_username = '<username>'\n",
    "src_gis_password = '<password>'\n",
    "\n",
    "target_gis_url = 'https://myorg.maps.arcgis.com'\n",
    "target_gis_username = '<username>'\n",
    "target_gis_password = '<password>'"
   ]
  },
  {
   "cell_type": "markdown",
   "metadata": {},
   "source": [
    "#### Set up Connections to the two different organizations"
   ]
  },
  {
   "cell_type": "code",
   "execution_count": null,
   "metadata": {},
   "outputs": [],
   "source": [
    "import arcgis\n",
    "src_gis = arcgis.gis.GIS(src_gis_url, src_gis_username, src_gis_password)\n",
    "target_gis = arcgis.gis.GIS(target_gis_url, client_id = target_gis_clientid)\n",
    "src_hub = arcgis.apps.hub.Hub(src_gis)\n",
    "target_hub = arcgis.apps.hub.Hub(target_gis)\n",
    "src_initiatives = src_hub.initiatives.search()\n",
    "target_initiatives = target_hub.initiatives.search()\n",
    "print(\"{} Initiatives in Source Org\".format(len(src_initiatives)))\n",
    "print(\"{} Initiatives in Target Org\".format(len(target_initiatives)))"
   ]
  },
  {
   "cell_type": "markdown",
   "metadata": {},
   "source": [
    "#### Duplicate an Initiative"
   ]
  },
  {
   "cell_type": "code",
   "execution_count": null,
   "metadata": {},
   "outputs": [],
   "source": [
    "#Work in Progress\n",
    "#src_initiative_id = '3607f61c0f8e44a681fa75df5e39d0c2'\n",
    "#src_initiative = [i for i in src_initiatives if i.itemid == src_initiative_id][0]\n",
    "#target_hub.initiatives.add()"
   ]
  },
  {
   "cell_type": "markdown",
   "metadata": {},
   "source": [
    "#### Duplicate a Site and Sync Site Properties\n",
    "Prior to running this step, create the target Site in the target GIS, and record that site's ItemID from your My Content Page, use that for the target_site_item_id below. This script will then sync over site properties etc. It will not copy pages, those need to be manually re-created, and then layout and configurations can be synced via the script below this section"
   ]
  },
  {
   "cell_type": "code",
   "execution_count": 75,
   "metadata": {},
   "outputs": [
    {
     "data": {
      "text/plain": [
       "True"
      ]
     },
     "execution_count": 75,
     "metadata": {},
     "output_type": "execute_result"
    }
   ],
   "source": [
    "src_site_itemid = '5313234937d84e42b4d4625715ebc9f0'\n",
    "target_site_itemid = '312f3e8877694977bc44a347671a980d'\n",
    "src_site_item = arcgis.gis.Item(src_gis, src_site_itemid)\n",
    "src_site_item_props = {\n",
    "    \"description\": src_site_item.description,\n",
    "    \"title\": src_site_item.title,\n",
    "    \"tags\": src_site_item.tags,\n",
    "    \"snippet\": src_site_item.snippet,\n",
    "    \"licenseInfo\": src_site_item.licenseInfo\n",
    "}\n",
    "site_data = src_site_item.get_data()\n",
    "site_data['values']['pages'] = []\n",
    "arcgis.gis.Item(target_gis, target_site_itemid).update(item_properties=src_site_item_props, data=site_data)\n",
    "\n",
    "#WIP:\n",
    "#pages = [page['id'] for page in site_data['values']['pages']]\n",
    "#page_dict = {}\n",
    "#for page in pages:\n",
    "#    result_item = target_gis.content.clone_items([arcgis.gis.Item(src_gis, page)])[0]\n",
    "#    page_dict[page] = result_item.id\n",
    "#old_pages = site_data['values']['pages']\n",
    "#new_pages = []\n",
    "#for i in old_pages:\n",
    "#    d = {'id':page_dict[i['id']],\n",
    "#        'title':i['title'],\n",
    "#        'slug': i['slug']}\n",
    "#    new_pages.append(d)\n",
    "#site_data['values']['pages'] = new_pages"
   ]
  },
  {
   "cell_type": "markdown",
   "metadata": {},
   "source": [
    "#### Sync a single Hub Page's Contents (Layout, etc.) to a Target Page\n",
    "Prior to running this step, you need to create the required Pages in the target Site, using whatever name/slug you want for the pages. You will then run this section repeatedly, syncing one page's properties and layout at a time."
   ]
  },
  {
   "cell_type": "code",
   "execution_count": 76,
   "metadata": {},
   "outputs": [
    {
     "data": {
      "text/plain": [
       "True"
      ]
     },
     "execution_count": 76,
     "metadata": {},
     "output_type": "execute_result"
    }
   ],
   "source": [
    "src_page_id = '4ed56b350c834d8a83bd0b3548cc0978'\n",
    "target_page_id = '15958231fb2149a7a8069c361fe9bac5'\n",
    "src_page_item = arcgis.gis.Item(src_gis, src_page_id)\n",
    "src_page_data = src_page_item.get_data()\n",
    "src_page_props = {\n",
    "    \"description\": src_page_item.description,\n",
    "    \"title\": src_page_item.title,\n",
    "    \"tags\": src_page_item.tags,\n",
    "    \"snippet\": src_page_item.snippet,\n",
    "    \"licenseInfo\": src_page_item.licenseInfo\n",
    "}\n",
    "arcgis.gis.Item(target_gis, target_page_id).update(item_properties=src_page_props, data=src_page_data)"
   ]
  },
  {
   "cell_type": "code",
   "execution_count": null,
   "metadata": {},
   "outputs": [],
   "source": []
  }
 ],
 "metadata": {
  "kernelspec": {
   "display_name": "Python 3",
   "language": "python",
   "name": "python3"
  },
  "language_info": {
   "codemirror_mode": {
    "name": "ipython",
    "version": 3
   },
   "file_extension": ".py",
   "mimetype": "text/x-python",
   "name": "python",
   "nbconvert_exporter": "python",
   "pygments_lexer": "ipython3",
   "version": "3.6.9"
  }
 },
 "nbformat": 4,
 "nbformat_minor": 4
}
