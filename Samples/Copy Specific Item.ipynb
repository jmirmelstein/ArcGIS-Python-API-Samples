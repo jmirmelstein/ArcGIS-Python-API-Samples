{
 "cells": [
  {
   "cell_type": "markdown",
   "metadata": {},
   "source": [
    "## Copying a specific Dashboard from one Organization to Another\n",
    "This notebook will help with copying and ArcGIS Dashboard or other web application from one organization to another. It will copy any web maps and hosted feature services owned by the user to the destination organization as well.\n",
    "\n",
    "This notebook cannot be used to copy Groups in their entirety. "
   ]
  },
  {
   "cell_type": "markdown",
   "metadata": {},
   "source": [
    "#### Set up your initial Variables:\n",
    "Define these variables for the source and destination organization and item."
   ]
  },
  {
   "cell_type": "code",
   "execution_count": 1,
   "metadata": {},
   "outputs": [],
   "source": [
    "src_gis_url = 'https://myorg.maps.arcgis.com'     #https://zyz.maps.arcgis.com - can also use 'home' if you are running the notebook from the org you want to use as the src. \n",
    "src_gis_username = '<username>' # Your username for the source organization\n",
    "src_gis_password = None # provide a password for that user, if None is left, you will be prompted to provide the password.\n",
    "src_item_id = '<itemid>' # Update this to the item ID of the item you want to copy ex: dbbd9dfedc2344f8bacf893daf20e478\n",
    "\n",
    "\n",
    "target_gis_url = 'https://myorg.maps.arcgis.com'    #https://myneworg.maps.arcgis.coNm\n",
    "target_gis_username = '<username>' # Username for Target Org\n",
    "target_gis_password = '<password>' # Password for Target Org\n",
    "target_folder_name = '<Name>' #Name for the Folder in the target user's content that you want to copy content into."
   ]
  },
  {
   "cell_type": "code",
   "execution_count": null,
   "metadata": {},
   "outputs": [],
   "source": [
    "import arcgis\n",
    "src_gis = arcgis.gis.GIS(src_gis_url, src_gis_username, src_gis_password)\n",
    "target_gis = arcgis.gis.GIS(target_gis_url, target_gis_username, target_gis_password)\n",
    "print(src_gis)\n",
    "print(target_gis)"
   ]
  },
  {
   "cell_type": "markdown",
   "metadata": {},
   "source": [
    "#### Copy an individual Item and related items\n",
    "Execute these cells to copy the item(s) to the target organization. Any items referenced by the item, like web maps used in a dashboard, will also be copied (or attempted to copy)"
   ]
  },
  {
   "cell_type": "code",
   "execution_count": 5,
   "metadata": {},
   "outputs": [
    {
     "data": {
      "text/plain": [
       "[<Item title:\"test_db\" type:Dashboard owner:__>]"
      ]
     },
     "execution_count": 5,
     "metadata": {},
     "output_type": "execute_result"
    }
   ],
   "source": [
    "src_item = arcgis.gis.Item(src_gis, src_item_id)\n",
    "src_item\n",
    "#Validate that the item that appears below is the correct Item you want to copy."
   ]
  },
  {
   "cell_type": "code",
   "execution_count": 6,
   "metadata": {},
   "outputs": [
    {
     "data": {
      "text/plain": [
       "[]"
      ]
     },
     "execution_count": 6,
     "metadata": {},
     "output_type": "execute_result"
    }
   ],
   "source": [
    "result = target_gis.content.clone_items([src_item],folder=target_folder_name)\n",
    "for i in result:\n",
    "    print()\"Created Target Item: \", i.id, i.title, i.type)"
   ]
  }
 ],
 "metadata": {
  "esriNotebookRuntime": {
   "notebookRuntimeName": "ArcGIS Notebook Python 3 Advanced",
   "notebookRuntimeVersion": "3.0"
  },
  "kernelspec": {
   "display_name": "Python 3",
   "language": "python",
   "name": "python3"
  },
  "language_info": {
   "codemirror_mode": {
    "name": "ipython",
    "version": 3
   },
   "file_extension": ".py",
   "mimetype": "text/x-python",
   "name": "python",
   "nbconvert_exporter": "python",
   "pygments_lexer": "ipython3",
   "version": "3.6.9"
  }
 },
 "nbformat": 4,
 "nbformat_minor": 2
}
